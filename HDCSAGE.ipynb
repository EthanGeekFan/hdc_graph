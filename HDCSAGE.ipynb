{
 "cells": [
  {
   "cell_type": "code",
   "execution_count": 37,
   "metadata": {},
   "outputs": [
    {
     "name": "stdout",
     "output_type": "stream",
     "text": [
      "(90941, 40)\n",
      "(29799, 40)\n",
      "(48603, 40)\n",
      "(90941,)\n",
      "(29799,)\n",
      "(48603,)\n",
      "(90941, 128)\n",
      "(29799, 128)\n",
      "(48603, 128)\n",
      "[-0.139176   -0.24919727  0.25901437 -0.02747912  0.04926306 -0.01338017\n",
      " -0.10090951 -0.23536047 -0.26964012  0.05506337  0.24175395 -0.14814366\n",
      " -0.43139833 -0.08389322 -0.03078499 -0.18383165 -0.10181541 -0.31361264\n",
      " -0.19075754 -0.17027982  0.01980056 -0.13180263  0.14787617  0.17163722\n",
      " -0.05474645 -0.1679169  -0.03034001 -0.08303773 -0.13428286 -0.04746383\n",
      "  0.12286613 -0.05885872 -0.11206771  0.07148973  0.02219984 -0.20059946\n",
      "  0.04150229  0.09666739  0.03941768  0.08011841]\n"
     ]
    }
   ],
   "source": [
    "import numpy as np\n",
    "\n",
    "train_emb = np.load('train_emb.npy')\n",
    "val_emb = np.load('val_emb.npy')\n",
    "test_emb = np.load('test_emb.npy')\n",
    "train_labels = np.load('train_labels.npy')\n",
    "val_labels = np.load('val_labels.npy')\n",
    "test_labels = np.load('test_labels.npy')\n",
    "train_features = np.load('train_features.npy')\n",
    "val_features = np.load('val_features.npy')\n",
    "test_features = np.load('test_features.npy')\n",
    "\n",
    "print(train_emb.shape)\n",
    "print(val_emb.shape)\n",
    "print(test_emb.shape)\n",
    "print(train_labels.shape)\n",
    "print(val_labels.shape)\n",
    "print(test_labels.shape)\n",
    "print(train_features.shape)\n",
    "print(val_features.shape)\n",
    "print(test_features.shape)\n",
    "\n",
    "print(train_emb[0])\n"
   ]
  },
  {
   "cell_type": "code",
   "execution_count": 38,
   "metadata": {},
   "outputs": [],
   "source": [
    "from hdc.bsc import BSC as HDC\n",
    "from hdc.hv import HDCRepresentation\n",
    "from hdc.itemmem import ItemMem\n",
    "from hdc.encoder import Encoder\n",
    "from hdc.levelencoder import LevelEncoder\n",
    "from tqdm import tqdm\n",
    "from typing import Type"
   ]
  },
  {
   "cell_type": "code",
   "execution_count": 39,
   "metadata": {},
   "outputs": [
    {
     "name": "stdout",
     "output_type": "stream",
     "text": [
      "num_intervals: 400\n",
      "num_bits: 25\n"
     ]
    }
   ],
   "source": [
    "N = 10240\n",
    "encoder = LevelEncoder(HDC, N, -1, 1, 0.005)\n",
    "\n",
    "def encode_instance(emb):\n",
    "    feature_hvs = []\n",
    "    for i in range(emb.shape[0]):\n",
    "        feature_hvs.append(encoder.encode(emb[i]))\n",
    "    return HDC.sequence(feature_hvs)\n",
    "    "
   ]
  },
  {
   "cell_type": "code",
   "execution_count": 40,
   "metadata": {},
   "outputs": [
    {
     "name": "stdout",
     "output_type": "stream",
     "text": [
      "(120740, 40)\n",
      "(120740,)\n"
     ]
    }
   ],
   "source": [
    "train = np.concatenate((train_emb, val_emb), axis=0)\n",
    "train_original = np.concatenate((train_features, val_features), axis=0)\n",
    "train_labels = np.concatenate((train_labels, val_labels), axis=0)\n",
    "print(train.shape)\n",
    "print(train_labels.shape)"
   ]
  },
  {
   "cell_type": "code",
   "execution_count": 41,
   "metadata": {},
   "outputs": [
    {
     "name": "stderr",
     "output_type": "stream",
     "text": [
      "100%|██████████| 120740/120740 [01:11<00:00, 1691.81it/s]\n"
     ]
    }
   ],
   "source": [
    "def learn(train, train_original, train_labels):\n",
    "    itemmem = ItemMem(HDC)\n",
    "    for i in tqdm(range(train.shape[0])):\n",
    "        instance = train[i]\n",
    "        label = train_labels[i].astype(int)\n",
    "        # hv1 = encode_instance(instance)\n",
    "        # hv2 = encode_instance(train_original[i])\n",
    "        # hv = HDC.sequence([hv1, hv2])\n",
    "        hv = encode_instance(instance)\n",
    "        itemmem.cache(label, hv)\n",
    "    itemmem.build()\n",
    "    return itemmem\n",
    "\n",
    "itemmem = learn(train, train_original, train_labels)"
   ]
  },
  {
   "cell_type": "code",
   "execution_count": 42,
   "metadata": {},
   "outputs": [],
   "source": [
    "def test(test, test_features, test_labels):\n",
    "    correct = 0\n",
    "    for i in tqdm(range(test.shape[0])):\n",
    "        instance = test[i]\n",
    "        label = test_labels[i].astype(int)\n",
    "        # hv1 = encode_instance(instance)\n",
    "        # hv2 = encode_instance(test_features[i])\n",
    "        # hv = HDC.sequence([hv1, hv2])\n",
    "        hv = encode_instance(instance)\n",
    "        pred = itemmem.query(hv)\n",
    "        if pred == label:\n",
    "            correct += 1\n",
    "    return correct / test.shape[0]"
   ]
  },
  {
   "cell_type": "code",
   "execution_count": 43,
   "metadata": {},
   "outputs": [
    {
     "name": "stderr",
     "output_type": "stream",
     "text": [
      "100%|██████████| 48603/48603 [01:24<00:00, 577.77it/s]\n"
     ]
    }
   ],
   "source": [
    "acc = test(test_emb, test_features, test_labels)"
   ]
  },
  {
   "cell_type": "code",
   "execution_count": 44,
   "metadata": {},
   "outputs": [
    {
     "name": "stdout",
     "output_type": "stream",
     "text": [
      "0.20317675863629817\n"
     ]
    }
   ],
   "source": [
    "print(acc)"
   ]
  }
 ],
 "metadata": {
  "kernelspec": {
   "display_name": "224w",
   "language": "python",
   "name": "python3"
  },
  "language_info": {
   "codemirror_mode": {
    "name": "ipython",
    "version": 3
   },
   "file_extension": ".py",
   "mimetype": "text/x-python",
   "name": "python",
   "nbconvert_exporter": "python",
   "pygments_lexer": "ipython3",
   "version": "3.10.13"
  }
 },
 "nbformat": 4,
 "nbformat_minor": 2
}
