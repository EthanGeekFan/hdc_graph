{
 "cells": [
  {
   "cell_type": "code",
   "execution_count": 15,
   "metadata": {},
   "outputs": [],
   "source": [
    "# get obgn-arxiv dataset\n",
    "# https://ogb.stanford.edu/docs/nodeprop/#ogbn-arxiv\n",
    "from ogb.nodeproppred import PygNodePropPredDataset\n",
    "\n",
    "dataset = PygNodePropPredDataset(name='ogbn-arxiv')"
   ]
  },
  {
   "cell_type": "code",
   "execution_count": 16,
   "metadata": {},
   "outputs": [
    {
     "name": "stdout",
     "output_type": "stream",
     "text": [
      "number of graphs: 1\n",
      "number of features: 128\n",
      "number of classes: 40\n",
      "number of nodes: 169343\n",
      "number of edges: 1166243\n"
     ]
    }
   ],
   "source": [
    "dataGraph = dataset[0]\n",
    "\n",
    "print(f\"number of graphs: {len(dataset)}\")\n",
    "print(f\"number of features: {dataset.num_features}\")\n",
    "print(f\"number of classes: {dataset.num_classes}\")\n",
    "print(f\"number of nodes: {dataGraph.num_nodes}\")\n",
    "print(f\"number of edges: {dataGraph.num_edges}\")"
   ]
  },
  {
   "cell_type": "code",
   "execution_count": 44,
   "metadata": {},
   "outputs": [
    {
     "name": "stdout",
     "output_type": "stream",
     "text": [
      "num_intervals: 66\n",
      "num_bits: 310\n"
     ]
    }
   ],
   "source": [
    "# HDC stuff\n",
    "from hdc.bsc import BSC as HDC\n",
    "from hdc.hv import HDCRepresentation\n",
    "from hdc.itemmem import ItemMem\n",
    "from hdc.encoder import Encoder\n",
    "from hdc.levelencoder import LevelEncoder\n",
    "from tqdm import tqdm\n",
    "from typing import Type\n",
    "from hdc.itemmem import HighResItemMem\n",
    "\n",
    "hdc = HDC\n",
    "N = 10240 * 2\n",
    "encoder = LevelEncoder(hdc, N, -1.6, 1.7, 0.05)"
   ]
  },
  {
   "cell_type": "code",
   "execution_count": 45,
   "metadata": {},
   "outputs": [],
   "source": [
    "id_hvs = [hdc.random_hypervector(N) for _ in range(dataGraph.num_features)]"
   ]
  },
  {
   "cell_type": "code",
   "execution_count": 46,
   "metadata": {},
   "outputs": [
    {
     "name": "stdout",
     "output_type": "stream",
     "text": [
      "[(0, 0), (93487, 1), (52893, 1), (75652, -1), (105878, -1), (59944, -1), (140486, -1), (52020, -1), (36054, -1), (87652, -1), (32085, -1), (114118, -1), (65335, -1), (134013, -1), (123331, -1), (5537, -1), (77288, -1), (22898, -1), (77298, -1), (53514, -1), (12093, -1), (18959, -1), (150024, -1), (137967, -1), (411, -1), (79872, -1), (111575, -1), (66781, -1), (17685, -1), (160556, -1), (123389, -1), (30832, -1), (5611, -1), (148781, -1), (77369, -1), (79916, -1), (89191, -1), (24324, -1), (87839, -1), (14982, -1), (108953, -1), (10839, -1), (168580, -1), (69510, -1), (142063, -1), (138055, -1), (87866, -1), (159353, -1), (163274, -1), (8205, -1), (47006, -1), (64167, -1), (85193, -1), (37609, -1), (139401, -1), (101065, -1), (42978, -1), (110342, -1), (85212, -1), (16415, -1), (17790, -1), (130201, -1), (19117, -1), (20468, -1), (1897, -1), (9646, -1), (147579, -1), (105064, -1), (21760, -1), (159425, -1), (165954, -1), (47091, -1), (30984, -1), (17846, -1), (20500, -1), (97195, -1), (57692, -1), (113080, -1), (117074, -1), (164688, -1), (164689, -1), (19188, -1), (103764, -1), (640, -1), (98556, -1), (154132, -1), (148947, -1), (107808, -1), (7043, -1), (68271, -1), (142222, -1), (163408, -1), (160770, -1), (143589, -1), (61695, -1), (132981, -1), (120998, -1), (160800, -1), (146340, -1), (138240, -1), (166033, -1), (73667, -1), (151524, -1), (35100, -1), (119729, -1), (142259, -1), (84013, -1), (114485, -1), (98615, -1), (28475, -1), (93347, -1), (53797, -1), (159530, -1), (99936, -1), (139581, -1), (158210, -1), (67034, -1), (28491, -1), (67041, -1), (52508, -1), (37805, -1), (151557, -1), (27167, -1), (82766, -1), (149029, -1), (74997, -1), (122309, -1), (57776, -1), (106560, -1), (156901, -1), (86748, -1), (47210, -1), (117193, -1), (110546, -1), (69747, -1), (140991, -1), (129063, -1), (75036, -1), (114548, -1), (122341, -1), (57814, -1), (65762, -1), (139637, -1), (122353, -1), (85446, -1), (156940, -1), (135693, -1), (113228, -1), (85469, -1), (82822, -1), (96075, -1), (5950, -1), (8481, -1), (37878, -1), (142365, -1), (3396, -1), (97377, -1), (4692, -1), (92115, -1), (117254, -1), (97415, -1), (55304, -1), (40630, -1), (85553, -1), (147858, -1), (154359, -1), (101427, -1), (163653, -1), (86950, -1), (51390, -1), (76534, -1), (22110, -1), (54080, -1), (82993, -1), (59400, -1), (30038, -1), (79162, -1), (133332, -1), (112129, -1), (47453, -1), (110853, -1), (77896, -1), (35458, -1), (15577, -1), (157210, -1), (81796, -1), (139955, -1), (114900, -1), (100321, -1), (161234, -1), (125413, -1), (102942, -1), (72744, -1), (83128, -1), (141346, -1), (118824, -1), (163861, -1), (95095, -1), (46262, -1), (85809, -1), (138740, -1), (122745, -1), (169182, -1), (24986, -1), (27607, -1), (5037, -1), (28932, -1), (128084, -1), (148155, -1), (1162, -1), (84515, -1), (125495, -1), (14291, -1), (28943, -1), (64838, -1), (62185, -1), (114978, -1), (161310, -1), (107024, -1), (49024, -1), (59593, -1), (42304, -1), (112299, -1), (166569, -1), (108343, -1), (161325, -1), (68850, -1), (122809, -1), (64865, -1), (70201, -1), (162643, -1), (126842, -1), (142793, -1), (138797, -1), (41004, -1), (3787, -1), (154734, -1), (34297, -1), (80659, -1), (45033, -1), (156052, -1), (39724, -1), (150780, -1), (76813, -1), (128172, -1), (32984, -1), (75529, -1), (160051, -1), (30293, -1), (63569, -1), (140151, -1), (145542, -1), (100477, -1), (101761, -1), (117698, -1), (93883, -1), (87263, -1), (137462, -1), (62279, -1), (149575, -1), (84616, -1), (23786, -1), (118977, -1), (43772, -1), (58350, -1), (33025, -1), (18523, -1), (161419, -1), (92590, -1), (51729, -1), (10313, -1), (25103, -1), (124282, -1), (158801, -1), (119004, -1), (103119, -1), (164033, -1), (59706, -1), (95272, -1), (83311, -1), (150851, -1), (168019, -1), (141521, -1), (124307, -1), (50422, -1), (21173, -1), (70312, -1), (25131, -1), (59728, -1), (72946, -1), (34405, -1), (47784, -1)]\n",
      "292\n"
     ]
    }
   ],
   "source": [
    "from torch_geometric.utils import k_hop_subgraph\n",
    "import networkx as nx\n",
    "import numpy as np\n",
    "import torch\n",
    "\n",
    "def extract_subgraph(dataGraph, node_idx, depth):\n",
    "    # get the subgraph around the node\n",
    "    # node_idx: index of the node\n",
    "    # depth: depth of the subgraph\n",
    "    # return: subgraph\n",
    "    # the subgraph is all nodes and edges within depth of the node\n",
    "    # depth = 0 means only the node itself\n",
    "    # depth = 1 means the node and its neighbors\n",
    "    # depth = 2 means the node and its neighbors and their neighbors\n",
    "    # etc.\n",
    "    subset, edge_index, _, _ = k_hop_subgraph(node_idx, depth, dataGraph.edge_index)\n",
    "    return subset, edge_index\n",
    "\n",
    "# return node indices of neighbors where there is an edge from the node to the neighbor\n",
    "def get_neighbors_from_src(dataGraph, node_idx):\n",
    "    # get the neighbors of the node\n",
    "    # node_idx: index of the node\n",
    "    # return: neighbors\n",
    "    # neighbors are all nodes adjacent to the node\n",
    "    neighbors = dataGraph.edge_index[1][dataGraph.edge_index[0] == node_idx]\n",
    "    return neighbors\n",
    "\n",
    "def get_neighbors_from_dst(dataGraph, node_idx):\n",
    "    # get the neighbors of the node\n",
    "    # node_idx: index of the node\n",
    "    # return: neighbors\n",
    "    # neighbors are all nodes adjacent to the node\n",
    "    neighbors = dataGraph.edge_index[0][dataGraph.edge_index[1] == node_idx]\n",
    "    return neighbors\n",
    "\n",
    "def get_neighbors(dataGraph, node_idx, depth):\n",
    "    # get the neighbors of the node\n",
    "    # node_idx: index of the node\n",
    "    # depth: depth of the subgraph\n",
    "    # return: neighbors\n",
    "    # neighbors are all nodes within depth of the node\n",
    "    # depth = 0 means no neighbors\n",
    "    # depth = 1 means only the neighbors of the node\n",
    "    # depth = 2 means the neighbors of the node and their neighbors\n",
    "    # etc.\n",
    "    # BFS to get the neighbors\n",
    "    neighbors = [] # list of neighbors in tuples (node indices, distance); distance is 1 for adjacent nodes -1 for nodes pointing to the node\n",
    "    visited = set()\n",
    "    queue = []\n",
    "    queue.append((node_idx, 0))\n",
    "    visited.add(node_idx)\n",
    "    while queue:\n",
    "        node_idx, distance = queue.pop(0)\n",
    "        neighbors.append((node_idx, distance))\n",
    "        if distance >= 0 and distance < depth:\n",
    "            # get neighbors of node_idx\n",
    "            neighbors_of_node = get_neighbors_from_src(dataGraph, node_idx)\n",
    "            for neighbor in neighbors_of_node:\n",
    "                if neighbor not in visited:\n",
    "                    queue.append((neighbor.item(), distance+1))\n",
    "                    visited.add(neighbor)\n",
    "        if distance <= 0 and distance > -depth:\n",
    "            # get neighbors of node_idx\n",
    "            neighbors_of_node = get_neighbors_from_dst(dataGraph, node_idx)\n",
    "            for neighbor in neighbors_of_node:\n",
    "                if neighbor not in visited:\n",
    "                    queue.append((neighbor.item(), distance-1))\n",
    "                    visited.add(neighbor)\n",
    "    return neighbors\n",
    "\n",
    "# test get_neighbors\n",
    "idx0_neighbors = get_neighbors(dataGraph, 0, 1)\n",
    "print(idx0_neighbors)\n",
    "print(len(idx0_neighbors))"
   ]
  },
  {
   "cell_type": "code",
   "execution_count": 47,
   "metadata": {},
   "outputs": [],
   "source": [
    "def encode_instance(features):\n",
    "    feature_hvs = []\n",
    "    for i in range(len(features)):\n",
    "        f = hdc.bind([id_hvs[i], encoder.encode(features[i])])\n",
    "        feature_hvs.append(f)\n",
    "    hv = hdc.bundle(feature_hvs)\n",
    "    return hv\n",
    "\n",
    "def encode_raw_nodes(dataGraph):\n",
    "    node_hvs = []\n",
    "    for i in tqdm(range(dataGraph.num_nodes)):\n",
    "        hv = encode_instance(dataGraph.x[i])\n",
    "        node_hvs.append(hv)\n",
    "    return node_hvs"
   ]
  },
  {
   "cell_type": "code",
   "execution_count": 48,
   "metadata": {},
   "outputs": [],
   "source": [
    "def encode_edges(node_hvs, edge_index):\n",
    "    edge_hvs = []\n",
    "    for i in range(edge_index.shape[1]):\n",
    "        src = edge_index[0][i]\n",
    "        dst = edge_index[1][i]\n",
    "        hv = hdc.bind([node_hvs[src], node_hvs[dst]])\n",
    "        edge_hvs.append(hv)\n",
    "    return edge_hvs\n",
    "\n",
    "def encode_subgraph(dataGraph, node_hvs, node_idx, depth):\n",
    "    # get the subgraph around the node\n",
    "    # node_idx: index of the node\n",
    "    # depth: depth of the subgraph\n",
    "    # return: subgraph\n",
    "    # the subgraph is all nodes and edges within depth of the node\n",
    "    # depth = 0 means only the node itself\n",
    "    # depth = 1 means the node and its neighbors\n",
    "    # depth = 2 means the node and its neighbors and their neighbors\n",
    "    # etc.\n",
    "    nodes = get_neighbors(dataGraph, node_idx, depth)\n",
    "    hvs_to_bundle = []\n",
    "    for node, distance in nodes:\n",
    "        hv = node_hvs[node]\n",
    "        hvs_to_bundle.append(hdc.permute(hv, distance))\n",
    "    hv = hdc.bundle(hvs_to_bundle)\n",
    "    return hv"
   ]
  },
  {
   "cell_type": "code",
   "execution_count": 49,
   "metadata": {},
   "outputs": [],
   "source": [
    "# learning\n",
    "# for each node, encode the subgraph around it\n",
    "def learn(node_hvs, dataGraph, depth, lr = 0.1, exisiting_mem = None):\n",
    "    itemmem = HighResItemMem(hdc, lr) if exisiting_mem is None else exisiting_mem\n",
    "    correct = 0\n",
    "    total = 0\n",
    "    accuracy = 0\n",
    "    with tqdm(total=dataGraph.num_nodes, desc=\"Learning\", unit=\"node\") as pbar:\n",
    "        for i in range(dataGraph.num_nodes):\n",
    "            label = dataGraph.y[i].item()\n",
    "            hv = encode_subgraph(dataGraph, node_hvs, i, depth)\n",
    "            if len(hv) == N:\n",
    "                # Test if the item is already in the mem\n",
    "                itemmem.build()\n",
    "                if label in itemmem.caches.keys():\n",
    "                    pred = itemmem.query(hv)\n",
    "                    if not pred or pred != label:\n",
    "                        # If mispredicted, add to label cache\n",
    "                        itemmem.cache(label, hv)\n",
    "                        # subtract from the mispredicted label cache\n",
    "                        itemmem.decache(pred, hv)\n",
    "                    else:\n",
    "                        correct += 1\n",
    "                else:\n",
    "                    # never seen this label before, add to label cache\n",
    "                    itemmem.cache(label, hv)\n",
    "                total += 1\n",
    "                accuracy = correct / total\n",
    "            pbar.set_postfix({\"accuracy\": accuracy})\n",
    "            pbar.update(1)\n",
    "    itemmem.build()\n",
    "    return itemmem"
   ]
  },
  {
   "cell_type": "code",
   "execution_count": 50,
   "metadata": {},
   "outputs": [],
   "source": [
    "def rand_test(node_hvs, dataGraph, itemmem, depth):\n",
    "    rand_indices = np.random.choice(dataGraph.num_nodes, 1000, replace=False)\n",
    "    correct = 0\n",
    "    skipped = 0\n",
    "    for i in tqdm(rand_indices):\n",
    "        label = dataGraph.y[i].item()\n",
    "        hv = encode_subgraph(dataGraph, node_hvs, i, depth)\n",
    "        pred = itemmem.query(hv)\n",
    "        if pred == label:\n",
    "            correct += 1\n",
    "    return correct / (len(rand_indices) - skipped)"
   ]
  },
  {
   "cell_type": "code",
   "execution_count": 51,
   "metadata": {},
   "outputs": [
    {
     "name": "stderr",
     "output_type": "stream",
     "text": [
      "100%|██████████| 169343/169343 [12:00<00:00, 235.15it/s]\n"
     ]
    }
   ],
   "source": [
    "node_hvs = encode_raw_nodes(dataGraph)"
   ]
  },
  {
   "cell_type": "code",
   "execution_count": null,
   "metadata": {},
   "outputs": [
    {
     "name": "stderr",
     "output_type": "stream",
     "text": [
      "100%|██████████| 169343/169343 [13:33<00:00, 208.28it/s]\n"
     ]
    }
   ],
   "source": [
    "mem1 = learn(node_hvs, dataGraph, 1)"
   ]
  },
  {
   "cell_type": "code",
   "execution_count": 52,
   "metadata": {},
   "outputs": [
    {
     "name": "stderr",
     "output_type": "stream",
     "text": [
      "Learning:   1%|          | 1353/169343 [00:07<14:55, 187.55node/s, accuracy=0.103] \n"
     ]
    },
    {
     "ename": "KeyboardInterrupt",
     "evalue": "",
     "output_type": "error",
     "traceback": [
      "\u001b[0;31m---------------------------------------------------------------------------\u001b[0m",
      "\u001b[0;31mKeyboardInterrupt\u001b[0m                         Traceback (most recent call last)",
      "\u001b[1;32m/Users/yifanyang/projects/hdc_graph/subGImproved.ipynb Cell 12\u001b[0m line \u001b[0;36m1\n\u001b[0;32m----> <a href='vscode-notebook-cell:/Users/yifanyang/projects/hdc_graph/subGImproved.ipynb#X14sZmlsZQ%3D%3D?line=0'>1</a>\u001b[0m mem2 \u001b[39m=\u001b[39m learn(node_hvs, dataGraph, \u001b[39m1\u001b[39;49m, \u001b[39m0.01\u001b[39;49m)\n",
      "\u001b[1;32m/Users/yifanyang/projects/hdc_graph/subGImproved.ipynb Cell 12\u001b[0m line \u001b[0;36m1\n\u001b[1;32m      <a href='vscode-notebook-cell:/Users/yifanyang/projects/hdc_graph/subGImproved.ipynb#X14sZmlsZQ%3D%3D?line=8'>9</a>\u001b[0m \u001b[39mfor\u001b[39;00m i \u001b[39min\u001b[39;00m \u001b[39mrange\u001b[39m(dataGraph\u001b[39m.\u001b[39mnum_nodes):\n\u001b[1;32m     <a href='vscode-notebook-cell:/Users/yifanyang/projects/hdc_graph/subGImproved.ipynb#X14sZmlsZQ%3D%3D?line=9'>10</a>\u001b[0m     label \u001b[39m=\u001b[39m dataGraph\u001b[39m.\u001b[39my[i]\u001b[39m.\u001b[39mitem()\n\u001b[0;32m---> <a href='vscode-notebook-cell:/Users/yifanyang/projects/hdc_graph/subGImproved.ipynb#X14sZmlsZQ%3D%3D?line=10'>11</a>\u001b[0m     hv \u001b[39m=\u001b[39m encode_subgraph(dataGraph, node_hvs, i, depth)\n\u001b[1;32m     <a href='vscode-notebook-cell:/Users/yifanyang/projects/hdc_graph/subGImproved.ipynb#X14sZmlsZQ%3D%3D?line=11'>12</a>\u001b[0m     \u001b[39mif\u001b[39;00m \u001b[39mlen\u001b[39m(hv) \u001b[39m==\u001b[39m N:\n\u001b[1;32m     <a href='vscode-notebook-cell:/Users/yifanyang/projects/hdc_graph/subGImproved.ipynb#X14sZmlsZQ%3D%3D?line=12'>13</a>\u001b[0m         \u001b[39m# Test if the item is already in the mem\u001b[39;00m\n\u001b[1;32m     <a href='vscode-notebook-cell:/Users/yifanyang/projects/hdc_graph/subGImproved.ipynb#X14sZmlsZQ%3D%3D?line=13'>14</a>\u001b[0m         itemmem\u001b[39m.\u001b[39mbuild()\n",
      "\u001b[1;32m/Users/yifanyang/projects/hdc_graph/subGImproved.ipynb Cell 12\u001b[0m line \u001b[0;36m2\n\u001b[1;32m     <a href='vscode-notebook-cell:/Users/yifanyang/projects/hdc_graph/subGImproved.ipynb#X14sZmlsZQ%3D%3D?line=21'>22</a>\u001b[0m \u001b[39mfor\u001b[39;00m node, distance \u001b[39min\u001b[39;00m nodes:\n\u001b[1;32m     <a href='vscode-notebook-cell:/Users/yifanyang/projects/hdc_graph/subGImproved.ipynb#X14sZmlsZQ%3D%3D?line=22'>23</a>\u001b[0m     hv \u001b[39m=\u001b[39m node_hvs[node]\n\u001b[0;32m---> <a href='vscode-notebook-cell:/Users/yifanyang/projects/hdc_graph/subGImproved.ipynb#X14sZmlsZQ%3D%3D?line=23'>24</a>\u001b[0m     hvs_to_bundle\u001b[39m.\u001b[39mappend(hdc\u001b[39m.\u001b[39;49mpermute(hv, distance))\n\u001b[1;32m     <a href='vscode-notebook-cell:/Users/yifanyang/projects/hdc_graph/subGImproved.ipynb#X14sZmlsZQ%3D%3D?line=24'>25</a>\u001b[0m hv \u001b[39m=\u001b[39m hdc\u001b[39m.\u001b[39mbundle(hvs_to_bundle)\n\u001b[1;32m     <a href='vscode-notebook-cell:/Users/yifanyang/projects/hdc_graph/subGImproved.ipynb#X14sZmlsZQ%3D%3D?line=25'>26</a>\u001b[0m \u001b[39mreturn\u001b[39;00m hv\n",
      "File \u001b[0;32m~/projects/hdc_graph/hdc/bsc.py:38\u001b[0m, in \u001b[0;36mBSC.permute\u001b[0;34m(cls, hv, n)\u001b[0m\n\u001b[1;32m     36\u001b[0m \u001b[39m@classmethod\u001b[39m\n\u001b[1;32m     37\u001b[0m \u001b[39mdef\u001b[39;00m \u001b[39mpermute\u001b[39m(\u001b[39mcls\u001b[39m, hv, n) \u001b[39m-\u001b[39m\u001b[39m>\u001b[39m np\u001b[39m.\u001b[39mndarray:\n\u001b[0;32m---> 38\u001b[0m     \u001b[39mreturn\u001b[39;00m np\u001b[39m.\u001b[39;49mroll(hv, n \u001b[39m*\u001b[39;49m \u001b[39m8\u001b[39;49m)\n",
      "File \u001b[0;32m/opt/homebrew/Caskroom/miniconda/base/envs/224w/lib/python3.10/site-packages/numpy/core/numeric.py:1208\u001b[0m, in \u001b[0;36mroll\u001b[0;34m(a, shift, axis)\u001b[0m\n\u001b[1;32m   1206\u001b[0m a \u001b[39m=\u001b[39m asanyarray(a)\n\u001b[1;32m   1207\u001b[0m \u001b[39mif\u001b[39;00m axis \u001b[39mis\u001b[39;00m \u001b[39mNone\u001b[39;00m:\n\u001b[0;32m-> 1208\u001b[0m     \u001b[39mreturn\u001b[39;00m roll(a\u001b[39m.\u001b[39;49mravel(), shift, \u001b[39m0\u001b[39;49m)\u001b[39m.\u001b[39mreshape(a\u001b[39m.\u001b[39mshape)\n\u001b[1;32m   1210\u001b[0m \u001b[39melse\u001b[39;00m:\n\u001b[1;32m   1211\u001b[0m     axis \u001b[39m=\u001b[39m normalize_axis_tuple(axis, a\u001b[39m.\u001b[39mndim, allow_duplicate\u001b[39m=\u001b[39m\u001b[39mTrue\u001b[39;00m)\n",
      "File \u001b[0;32m/opt/homebrew/Caskroom/miniconda/base/envs/224w/lib/python3.10/site-packages/numpy/core/numeric.py:1231\u001b[0m, in \u001b[0;36mroll\u001b[0;34m(a, shift, axis)\u001b[0m\n\u001b[1;32m   1229\u001b[0m \u001b[39mfor\u001b[39;00m indices \u001b[39min\u001b[39;00m itertools\u001b[39m.\u001b[39mproduct(\u001b[39m*\u001b[39mrolls):\n\u001b[1;32m   1230\u001b[0m     arr_index, res_index \u001b[39m=\u001b[39m \u001b[39mzip\u001b[39m(\u001b[39m*\u001b[39mindices)\n\u001b[0;32m-> 1231\u001b[0m     result[res_index] \u001b[39m=\u001b[39m a[arr_index]\n\u001b[1;32m   1233\u001b[0m \u001b[39mreturn\u001b[39;00m result\n",
      "\u001b[0;31mKeyboardInterrupt\u001b[0m: "
     ]
    }
   ],
   "source": [
    "mem2 = learn(node_hvs, dataGraph, 1, 0.01)"
   ]
  },
  {
   "cell_type": "code",
   "execution_count": 40,
   "metadata": {},
   "outputs": [
    {
     "name": "stderr",
     "output_type": "stream",
     "text": [
      "Learning: 100%|██████████| 169343/169343 [1:00:23<00:00, 46.74node/s, accuracy=0.316]\n"
     ]
    }
   ],
   "source": [
    "mem3 = learn(node_hvs, dataGraph, 2, 0.01)"
   ]
  },
  {
   "cell_type": "code",
   "execution_count": 48,
   "metadata": {},
   "outputs": [
    {
     "name": "stderr",
     "output_type": "stream",
     "text": [
      "100%|██████████| 169343/169343 [13:45<00:00, 205.11it/s]\n"
     ]
    }
   ],
   "source": [
    "mem4 = learn(node_hvs, dataGraph, 1, 0.01, mem2)"
   ]
  },
  {
   "cell_type": "code",
   "execution_count": 51,
   "metadata": {},
   "outputs": [
    {
     "name": "stderr",
     "output_type": "stream",
     "text": [
      "100%|██████████| 169343/169343 [14:55<00:00, 189.10it/s]\n"
     ]
    }
   ],
   "source": [
    "mem5 = learn(node_hvs, dataGraph, 1, 0.001)"
   ]
  },
  {
   "cell_type": "code",
   "execution_count": 41,
   "metadata": {},
   "outputs": [
    {
     "name": "stderr",
     "output_type": "stream",
     "text": [
      "100%|██████████| 1000/1000 [00:04<00:00, 223.39it/s]\n"
     ]
    }
   ],
   "source": [
    "acc1 = rand_test(node_hvs, dataGraph, mem1, 1)"
   ]
  },
  {
   "cell_type": "code",
   "execution_count": 38,
   "metadata": {},
   "outputs": [
    {
     "name": "stderr",
     "output_type": "stream",
     "text": [
      "100%|██████████| 1000/1000 [00:02<00:00, 352.36it/s]\n"
     ]
    }
   ],
   "source": [
    "acc2 = rand_test(node_hvs, dataGraph, mem2, 1)"
   ]
  },
  {
   "cell_type": "code",
   "execution_count": 42,
   "metadata": {},
   "outputs": [
    {
     "name": "stderr",
     "output_type": "stream",
     "text": [
      "100%|██████████| 1000/1000 [00:19<00:00, 51.50it/s]\n"
     ]
    }
   ],
   "source": [
    "acc3 = rand_test(node_hvs, dataGraph, mem3, 2)"
   ]
  },
  {
   "cell_type": "code",
   "execution_count": 49,
   "metadata": {},
   "outputs": [
    {
     "name": "stderr",
     "output_type": "stream",
     "text": [
      "100%|██████████| 1000/1000 [00:04<00:00, 237.48it/s]\n"
     ]
    }
   ],
   "source": [
    "acc4 = rand_test(node_hvs, dataGraph, mem4, 1)"
   ]
  },
  {
   "cell_type": "code",
   "execution_count": 54,
   "metadata": {},
   "outputs": [
    {
     "name": "stderr",
     "output_type": "stream",
     "text": [
      "100%|██████████| 1000/1000 [00:04<00:00, 220.35it/s]\n"
     ]
    }
   ],
   "source": [
    "acc5 = rand_test(node_hvs, dataGraph, mem5, 1)"
   ]
  },
  {
   "cell_type": "code",
   "execution_count": 39,
   "metadata": {},
   "outputs": [
    {
     "name": "stdout",
     "output_type": "stream",
     "text": [
      "0.445\n"
     ]
    }
   ],
   "source": [
    "print(acc2)"
   ]
  },
  {
   "cell_type": "code",
   "execution_count": 43,
   "metadata": {},
   "outputs": [
    {
     "name": "stdout",
     "output_type": "stream",
     "text": [
      "0.314\n"
     ]
    }
   ],
   "source": [
    "print(acc3)"
   ]
  }
 ],
 "metadata": {
  "kernelspec": {
   "display_name": "224w",
   "language": "python",
   "name": "python3"
  },
  "language_info": {
   "codemirror_mode": {
    "name": "ipython",
    "version": 3
   },
   "file_extension": ".py",
   "mimetype": "text/x-python",
   "name": "python",
   "nbconvert_exporter": "python",
   "pygments_lexer": "ipython3",
   "version": "3.10.13"
  }
 },
 "nbformat": 4,
 "nbformat_minor": 2
}
