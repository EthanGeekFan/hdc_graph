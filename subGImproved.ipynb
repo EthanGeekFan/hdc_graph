{
 "cells": [
  {
   "cell_type": "code",
   "execution_count": 15,
   "metadata": {},
   "outputs": [],
   "source": [
    "# get obgn-arxiv dataset\n",
    "# https://ogb.stanford.edu/docs/nodeprop/#ogbn-arxiv\n",
    "from ogb.nodeproppred import PygNodePropPredDataset\n",
    "\n",
    "dataset = PygNodePropPredDataset(name='ogbn-arxiv')"
   ]
  },
  {
   "cell_type": "code",
   "execution_count": 16,
   "metadata": {},
   "outputs": [
    {
     "name": "stdout",
     "output_type": "stream",
     "text": [
      "number of graphs: 1\n",
      "number of features: 128\n",
      "number of classes: 40\n",
      "number of nodes: 169343\n",
      "number of edges: 1166243\n"
     ]
    }
   ],
   "source": [
    "dataGraph = dataset[0]\n",
    "\n",
    "print(f\"number of graphs: {len(dataset)}\")\n",
    "print(f\"number of features: {dataset.num_features}\")\n",
    "print(f\"number of classes: {dataset.num_classes}\")\n",
    "print(f\"number of nodes: {dataGraph.num_nodes}\")\n",
    "print(f\"number of edges: {dataGraph.num_edges}\")"
   ]
  },
  {
   "cell_type": "code",
   "execution_count": 80,
   "metadata": {},
   "outputs": [
    {
     "name": "stdout",
     "output_type": "stream",
     "text": [
      "num_intervals: 40\n",
      "num_bits: 256\n"
     ]
    }
   ],
   "source": [
    "# HDC stuff\n",
    "from hdc.bsc import BSC as HDC\n",
    "from hdc.hv import HDCRepresentation\n",
    "from hdc.itemmem import ItemMem\n",
    "from hdc.encoder import Encoder\n",
    "from hdc.levelencoder import LevelEncoder\n",
    "from tqdm import tqdm\n",
    "from typing import Type\n",
    "from hdc.itemmem import HighResItemMem\n",
    "\n",
    "hdc = HDC\n",
    "N = 10240\n",
    "encoder = LevelEncoder(hdc, N, -1, 1, 0.05)"
   ]
  },
  {
   "cell_type": "code",
   "execution_count": 81,
   "metadata": {},
   "outputs": [],
   "source": [
    "id_hvs = [hdc.random_hypervector(N) for _ in range(dataGraph.num_features)]"
   ]
  },
  {
   "cell_type": "code",
   "execution_count": 82,
   "metadata": {},
   "outputs": [],
   "source": [
    "from torch_geometric.utils import k_hop_subgraph\n",
    "import networkx as nx\n",
    "import numpy as np\n",
    "import torch\n",
    "\n",
    "def extract_subgraph(dataGraph, node_idx, depth):\n",
    "    # get the subgraph around the node\n",
    "    # node_idx: index of the node\n",
    "    # depth: depth of the subgraph\n",
    "    # return: subgraph\n",
    "    # the subgraph is all nodes and edges within depth of the node\n",
    "    # depth = 0 means only the node itself\n",
    "    # depth = 1 means the node and its neighbors\n",
    "    # depth = 2 means the node and its neighbors and their neighbors\n",
    "    # etc.\n",
    "    subset, edge_index, _, _ = k_hop_subgraph(node_idx, depth, dataGraph.edge_index)\n",
    "    return subset, edge_index\n",
    "\n",
    "# return node indices of neighbors where there is an edge from the node to the neighbor\n",
    "def get_neighbors_from_src(dataGraph, node_idx):\n",
    "    # get the neighbors of the node\n",
    "    # node_idx: index of the node\n",
    "    # return: neighbors\n",
    "    # neighbors are all nodes adjacent to the node\n",
    "    neighbors = dataGraph.edge_index[1][dataGraph.edge_index[0] == node_idx]\n",
    "    return neighbors\n",
    "\n",
    "def get_neighbors_from_dst(dataGraph, node_idx):\n",
    "    # get the neighbors of the node\n",
    "    # node_idx: index of the node\n",
    "    # return: neighbors\n",
    "    # neighbors are all nodes adjacent to the node\n",
    "    neighbors = dataGraph.edge_index[0][dataGraph.edge_index[1] == node_idx]\n",
    "    return neighbors\n",
    "\n",
    "def get_neighbors(dataGraph, node_idx, depth, pr, sample_size=100):\n",
    "    # get the neighbors of the node\n",
    "    # node_idx: index of the node\n",
    "    # depth: depth of the subgraph\n",
    "    # return: neighbors\n",
    "    # neighbors are all nodes within depth of the node\n",
    "    # depth = 0 means no neighbors\n",
    "    # depth = 1 means only the neighbors of the node\n",
    "    # depth = 2 means the neighbors of the node and their neighbors\n",
    "    # etc.\n",
    "    # BFS to get the neighbors\n",
    "    # pr: the PageRank vector\n",
    "    # sample_size: the number of neighbors to sample\n",
    "    neighbors = [] # list of neighbors in tuples (node indices, distance, pr_val); distance is 1 for adjacent nodes -1 for nodes pointing to the node\n",
    "    visited = set()\n",
    "    queue = []\n",
    "    min_pr = -float('inf')\n",
    "    queue.append((node_idx, 0))\n",
    "    visited.add(node_idx)\n",
    "    while queue:\n",
    "        node_idx, distance = queue.pop(0)\n",
    "        neighbors.append((node_idx, distance))\n",
    "        if pr[node_idx] > min_pr:\n",
    "            min_pr = pr[node_idx]\n",
    "        if distance >= 0 and distance < depth:\n",
    "            # get neighbors of node_idx\n",
    "            neighbors_of_node = get_neighbors_from_src(dataGraph, node_idx)\n",
    "            for neighbor in neighbors_of_node:\n",
    "                if neighbor not in visited:\n",
    "                    if pr[neighbor] > min_pr:\n",
    "                        queue.append((neighbor.item(), distance+1))\n",
    "                    visited.add(neighbor)\n",
    "        if distance <= 0 and distance > -depth:\n",
    "            # get neighbors of node_idx\n",
    "            neighbors_of_node = get_neighbors_from_dst(dataGraph, node_idx)\n",
    "            for neighbor in neighbors_of_node:\n",
    "                if neighbor not in visited:\n",
    "                    if pr[neighbor] > min_pr:\n",
    "                        queue.append((neighbor.item(), distance-1))\n",
    "                    visited.add(neighbor)\n",
    "    # sort by page rank\n",
    "    neighbors.sort(key=lambda x: pr[x[0]], reverse=True)\n",
    "    # sample neighbors\n",
    "    if len(neighbors) > sample_size:\n",
    "        neighbors = neighbors[:sample_size]\n",
    "    return neighbors\n",
    "\n",
    "# test get_neighbors\n",
    "# idx0_neighbors = get_neighbors(dataGraph, 0, 1, )\n",
    "# print(idx0_neighbors)\n",
    "# print(len(idx0_neighbors))"
   ]
  },
  {
   "cell_type": "code",
   "execution_count": 83,
   "metadata": {},
   "outputs": [],
   "source": [
    "def encode_instance(features):\n",
    "    feature_hvs = []\n",
    "    for i in range(len(features)):\n",
    "        f = hdc.bind([id_hvs[i], encoder.encode(features[i])])\n",
    "        feature_hvs.append(f)\n",
    "    hv = hdc.bundle(feature_hvs)\n",
    "    return hv\n",
    "\n",
    "def encode_raw_nodes(dataGraph):\n",
    "    node_hvs = []\n",
    "    for i in tqdm(range(dataGraph.num_nodes)):\n",
    "        hv = encode_instance(dataGraph.x[i])\n",
    "        node_hvs.append(hv)\n",
    "    return node_hvs"
   ]
  },
  {
   "cell_type": "code",
   "execution_count": 84,
   "metadata": {},
   "outputs": [],
   "source": [
    "def encode_edges(node_hvs, edge_index):\n",
    "    edge_hvs = []\n",
    "    for i in range(edge_index.shape[1]):\n",
    "        src = edge_index[0][i]\n",
    "        dst = edge_index[1][i]\n",
    "        hv = hdc.bind([node_hvs[src], node_hvs[dst]])\n",
    "        edge_hvs.append(hv)\n",
    "    return edge_hvs\n",
    "\n",
    "def encode_subgraph(dataGraph, node_hvs, node_idx, depth, pr):\n",
    "    # get the subgraph around the node\n",
    "    # node_idx: index of the node\n",
    "    # depth: depth of the subgraph\n",
    "    # return: subgraph\n",
    "    # the subgraph is all nodes and edges within depth of the node\n",
    "    # depth = 0 means only the node itself\n",
    "    # depth = 1 means the node and its neighbors\n",
    "    # depth = 2 means the node and its neighbors and their neighbors\n",
    "    # etc.\n",
    "    nodes = get_neighbors(dataGraph, node_idx, depth, pr)\n",
    "    hvs_to_bundle = []\n",
    "    for node, distance in nodes:\n",
    "        hv = node_hvs[node]\n",
    "        hvs_to_bundle.append(hdc.permute(hv, distance))\n",
    "    hv = hdc.bundle(hvs_to_bundle)\n",
    "    return hv"
   ]
  },
  {
   "cell_type": "code",
   "execution_count": 85,
   "metadata": {},
   "outputs": [],
   "source": [
    "# learning\n",
    "# for each node, encode the subgraph around it\n",
    "def learn(node_hvs, dataGraph, depth, pr, lr = 0.1, exisiting_mem = None):\n",
    "    itemmem = HighResItemMem(hdc, lr) if exisiting_mem is None else exisiting_mem\n",
    "    correct = 0\n",
    "    total = 0\n",
    "    accuracy = 0\n",
    "    with tqdm(total=dataGraph.num_nodes, desc=\"Learning\", unit=\"node\") as pbar:\n",
    "        for i in range(dataGraph.num_nodes):\n",
    "            label = dataGraph.y[i].item()\n",
    "            hv = encode_subgraph(dataGraph, node_hvs, i, depth, pr)\n",
    "            if len(hv) == N:\n",
    "                # Test if the item is already in the mem\n",
    "                itemmem.build()\n",
    "                if label in itemmem.caches.keys():\n",
    "                    pred = itemmem.query(hv)\n",
    "                    if not pred or pred != label:\n",
    "                        # If mispredicted, add to label cache\n",
    "                        itemmem.cache(label, hv)\n",
    "                        # subtract from the mispredicted label cache\n",
    "                        itemmem.decache(pred, hv)\n",
    "                    else:\n",
    "                        correct += 1\n",
    "                else:\n",
    "                    # never seen this label before, add to label cache\n",
    "                    itemmem.cache(label, hv)\n",
    "                total += 1\n",
    "                accuracy = correct / total\n",
    "            pbar.set_postfix({\"accuracy\": accuracy})\n",
    "            pbar.update(1)\n",
    "    itemmem.build()\n",
    "    return itemmem"
   ]
  },
  {
   "cell_type": "code",
   "execution_count": 86,
   "metadata": {},
   "outputs": [],
   "source": [
    "def rand_test(node_hvs, dataGraph, itemmem, depth, pr):\n",
    "    rand_indices = np.random.choice(dataGraph.num_nodes, 1000, replace=False)\n",
    "    correct = 0\n",
    "    skipped = 0\n",
    "    for i in tqdm(rand_indices):\n",
    "        label = dataGraph.y[i].item()\n",
    "        hv = encode_subgraph(dataGraph, node_hvs, i, depth, pr)\n",
    "        pred = itemmem.query(hv)\n",
    "        if pred == label:\n",
    "            correct += 1\n",
    "    return correct / (len(rand_indices) - skipped)"
   ]
  },
  {
   "cell_type": "code",
   "execution_count": 87,
   "metadata": {},
   "outputs": [
    {
     "name": "stderr",
     "output_type": "stream",
     "text": [
      " 44%|████▍     | 75187/169343 [03:47<04:36, 339.99it/s]"
     ]
    }
   ],
   "source": [
    "node_hvs = encode_raw_nodes(dataGraph)"
   ]
  },
  {
   "cell_type": "code",
   "execution_count": 53,
   "metadata": {},
   "outputs": [],
   "source": [
    "# calculate PageRank\n",
    "from torch_geometric.utils import to_networkx\n",
    "import networkx as nx\n",
    "\n",
    "# convert to networkx graph\n",
    "G = to_networkx(dataGraph)\n",
    "# calculate PageRank\n",
    "pr = nx.pagerank(G)"
   ]
  },
  {
   "cell_type": "code",
   "execution_count": null,
   "metadata": {},
   "outputs": [
    {
     "name": "stderr",
     "output_type": "stream",
     "text": [
      "100%|██████████| 169343/169343 [13:33<00:00, 208.28it/s]\n"
     ]
    }
   ],
   "source": [
    "mem1 = learn(node_hvs, dataGraph, 1, pr, lr=0.1)"
   ]
  },
  {
   "cell_type": "code",
   "execution_count": 70,
   "metadata": {},
   "outputs": [
    {
     "name": "stderr",
     "output_type": "stream",
     "text": [
      "Learning: 100%|██████████| 169343/169343 [15:17<00:00, 184.49node/s, accuracy=0.402]\n"
     ]
    }
   ],
   "source": [
    "mem2 = learn(node_hvs, dataGraph, 1, pr, 0.01)"
   ]
  },
  {
   "cell_type": "code",
   "execution_count": 76,
   "metadata": {},
   "outputs": [
    {
     "name": "stderr",
     "output_type": "stream",
     "text": [
      "Learning:   1%|          | 1385/169343 [00:31<1:04:21, 43.50node/s, accuracy=0.108] \n"
     ]
    },
    {
     "ename": "KeyboardInterrupt",
     "evalue": "",
     "output_type": "error",
     "traceback": [
      "\u001b[0;31m---------------------------------------------------------------------------\u001b[0m",
      "\u001b[0;31mKeyboardInterrupt\u001b[0m                         Traceback (most recent call last)",
      "\u001b[1;32m/Users/yifanyang/projects/hdc_graph/subGImproved.ipynb Cell 14\u001b[0m line \u001b[0;36m1\n\u001b[0;32m----> <a href='vscode-notebook-cell:/Users/yifanyang/projects/hdc_graph/subGImproved.ipynb#X15sZmlsZQ%3D%3D?line=0'>1</a>\u001b[0m mem3 \u001b[39m=\u001b[39m learn(node_hvs, dataGraph, \u001b[39m2\u001b[39;49m, pr, \u001b[39m0.1\u001b[39;49m)\n",
      "\u001b[1;32m/Users/yifanyang/projects/hdc_graph/subGImproved.ipynb Cell 14\u001b[0m line \u001b[0;36m1\n\u001b[1;32m      <a href='vscode-notebook-cell:/Users/yifanyang/projects/hdc_graph/subGImproved.ipynb#X15sZmlsZQ%3D%3D?line=8'>9</a>\u001b[0m \u001b[39mfor\u001b[39;00m i \u001b[39min\u001b[39;00m \u001b[39mrange\u001b[39m(dataGraph\u001b[39m.\u001b[39mnum_nodes):\n\u001b[1;32m     <a href='vscode-notebook-cell:/Users/yifanyang/projects/hdc_graph/subGImproved.ipynb#X15sZmlsZQ%3D%3D?line=9'>10</a>\u001b[0m     label \u001b[39m=\u001b[39m dataGraph\u001b[39m.\u001b[39my[i]\u001b[39m.\u001b[39mitem()\n\u001b[0;32m---> <a href='vscode-notebook-cell:/Users/yifanyang/projects/hdc_graph/subGImproved.ipynb#X15sZmlsZQ%3D%3D?line=10'>11</a>\u001b[0m     hv \u001b[39m=\u001b[39m encode_subgraph(dataGraph, node_hvs, i, depth, pr)\n\u001b[1;32m     <a href='vscode-notebook-cell:/Users/yifanyang/projects/hdc_graph/subGImproved.ipynb#X15sZmlsZQ%3D%3D?line=11'>12</a>\u001b[0m     \u001b[39mif\u001b[39;00m \u001b[39mlen\u001b[39m(hv) \u001b[39m==\u001b[39m N:\n\u001b[1;32m     <a href='vscode-notebook-cell:/Users/yifanyang/projects/hdc_graph/subGImproved.ipynb#X15sZmlsZQ%3D%3D?line=12'>13</a>\u001b[0m         \u001b[39m# Test if the item is already in the mem\u001b[39;00m\n\u001b[1;32m     <a href='vscode-notebook-cell:/Users/yifanyang/projects/hdc_graph/subGImproved.ipynb#X15sZmlsZQ%3D%3D?line=13'>14</a>\u001b[0m         itemmem\u001b[39m.\u001b[39mbuild()\n",
      "\u001b[1;32m/Users/yifanyang/projects/hdc_graph/subGImproved.ipynb Cell 14\u001b[0m line \u001b[0;36m2\n\u001b[1;32m     <a href='vscode-notebook-cell:/Users/yifanyang/projects/hdc_graph/subGImproved.ipynb#X15sZmlsZQ%3D%3D?line=21'>22</a>\u001b[0m \u001b[39mfor\u001b[39;00m node, distance \u001b[39min\u001b[39;00m nodes:\n\u001b[1;32m     <a href='vscode-notebook-cell:/Users/yifanyang/projects/hdc_graph/subGImproved.ipynb#X15sZmlsZQ%3D%3D?line=22'>23</a>\u001b[0m     hv \u001b[39m=\u001b[39m node_hvs[node]\n\u001b[0;32m---> <a href='vscode-notebook-cell:/Users/yifanyang/projects/hdc_graph/subGImproved.ipynb#X15sZmlsZQ%3D%3D?line=23'>24</a>\u001b[0m     hvs_to_bundle\u001b[39m.\u001b[39mappend(hdc\u001b[39m.\u001b[39;49mpermute(hv, distance))\n\u001b[1;32m     <a href='vscode-notebook-cell:/Users/yifanyang/projects/hdc_graph/subGImproved.ipynb#X15sZmlsZQ%3D%3D?line=24'>25</a>\u001b[0m hv \u001b[39m=\u001b[39m hdc\u001b[39m.\u001b[39mbundle(hvs_to_bundle)\n\u001b[1;32m     <a href='vscode-notebook-cell:/Users/yifanyang/projects/hdc_graph/subGImproved.ipynb#X15sZmlsZQ%3D%3D?line=25'>26</a>\u001b[0m \u001b[39mreturn\u001b[39;00m hv\n",
      "File \u001b[0;32m~/projects/hdc_graph/hdc/bsc.py:38\u001b[0m, in \u001b[0;36mBSC.permute\u001b[0;34m(cls, hv, n)\u001b[0m\n\u001b[1;32m     36\u001b[0m \u001b[39m@classmethod\u001b[39m\n\u001b[1;32m     37\u001b[0m \u001b[39mdef\u001b[39;00m \u001b[39mpermute\u001b[39m(\u001b[39mcls\u001b[39m, hv, n) \u001b[39m-\u001b[39m\u001b[39m>\u001b[39m np\u001b[39m.\u001b[39mndarray:\n\u001b[0;32m---> 38\u001b[0m     \u001b[39mreturn\u001b[39;00m np\u001b[39m.\u001b[39;49mroll(hv, n \u001b[39m*\u001b[39;49m \u001b[39m8\u001b[39;49m)\n",
      "File \u001b[0;32m/opt/homebrew/Caskroom/miniconda/base/envs/224w/lib/python3.10/site-packages/numpy/core/numeric.py:1208\u001b[0m, in \u001b[0;36mroll\u001b[0;34m(a, shift, axis)\u001b[0m\n\u001b[1;32m   1206\u001b[0m a \u001b[39m=\u001b[39m asanyarray(a)\n\u001b[1;32m   1207\u001b[0m \u001b[39mif\u001b[39;00m axis \u001b[39mis\u001b[39;00m \u001b[39mNone\u001b[39;00m:\n\u001b[0;32m-> 1208\u001b[0m     \u001b[39mreturn\u001b[39;00m roll(a\u001b[39m.\u001b[39;49mravel(), shift, \u001b[39m0\u001b[39;49m)\u001b[39m.\u001b[39mreshape(a\u001b[39m.\u001b[39mshape)\n\u001b[1;32m   1210\u001b[0m \u001b[39melse\u001b[39;00m:\n\u001b[1;32m   1211\u001b[0m     axis \u001b[39m=\u001b[39m normalize_axis_tuple(axis, a\u001b[39m.\u001b[39mndim, allow_duplicate\u001b[39m=\u001b[39m\u001b[39mTrue\u001b[39;00m)\n",
      "File \u001b[0;32m/opt/homebrew/Caskroom/miniconda/base/envs/224w/lib/python3.10/site-packages/numpy/core/numeric.py:1231\u001b[0m, in \u001b[0;36mroll\u001b[0;34m(a, shift, axis)\u001b[0m\n\u001b[1;32m   1229\u001b[0m \u001b[39mfor\u001b[39;00m indices \u001b[39min\u001b[39;00m itertools\u001b[39m.\u001b[39mproduct(\u001b[39m*\u001b[39mrolls):\n\u001b[1;32m   1230\u001b[0m     arr_index, res_index \u001b[39m=\u001b[39m \u001b[39mzip\u001b[39m(\u001b[39m*\u001b[39mindices)\n\u001b[0;32m-> 1231\u001b[0m     result[res_index] \u001b[39m=\u001b[39m a[arr_index]\n\u001b[1;32m   1233\u001b[0m \u001b[39mreturn\u001b[39;00m result\n",
      "\u001b[0;31mKeyboardInterrupt\u001b[0m: "
     ]
    }
   ],
   "source": [
    "mem3 = learn(node_hvs, dataGraph, 2, pr, 0.1)"
   ]
  },
  {
   "cell_type": "code",
   "execution_count": 48,
   "metadata": {},
   "outputs": [
    {
     "name": "stderr",
     "output_type": "stream",
     "text": [
      "100%|██████████| 169343/169343 [13:45<00:00, 205.11it/s]\n"
     ]
    }
   ],
   "source": [
    "mem4 = learn(node_hvs, dataGraph, 1, 0.01, mem2)"
   ]
  },
  {
   "cell_type": "code",
   "execution_count": 51,
   "metadata": {},
   "outputs": [
    {
     "name": "stderr",
     "output_type": "stream",
     "text": [
      "100%|██████████| 169343/169343 [14:55<00:00, 189.10it/s]\n"
     ]
    }
   ],
   "source": [
    "mem5 = learn(node_hvs, dataGraph, 1, 0.001)"
   ]
  },
  {
   "cell_type": "code",
   "execution_count": 41,
   "metadata": {},
   "outputs": [
    {
     "name": "stderr",
     "output_type": "stream",
     "text": [
      "100%|██████████| 1000/1000 [00:04<00:00, 223.39it/s]\n"
     ]
    }
   ],
   "source": [
    "acc1 = rand_test(node_hvs, dataGraph, mem1, 1)"
   ]
  },
  {
   "cell_type": "code",
   "execution_count": 73,
   "metadata": {},
   "outputs": [
    {
     "name": "stderr",
     "output_type": "stream",
     "text": [
      "100%|██████████| 1000/1000 [00:03<00:00, 308.99it/s]\n"
     ]
    }
   ],
   "source": [
    "acc2 = rand_test(node_hvs, dataGraph, mem2, 1, pr)"
   ]
  },
  {
   "cell_type": "code",
   "execution_count": 42,
   "metadata": {},
   "outputs": [
    {
     "name": "stderr",
     "output_type": "stream",
     "text": [
      "100%|██████████| 1000/1000 [00:19<00:00, 51.50it/s]\n"
     ]
    }
   ],
   "source": [
    "acc3 = rand_test(node_hvs, dataGraph, mem3, 2)"
   ]
  },
  {
   "cell_type": "code",
   "execution_count": 49,
   "metadata": {},
   "outputs": [
    {
     "name": "stderr",
     "output_type": "stream",
     "text": [
      "100%|██████████| 1000/1000 [00:04<00:00, 237.48it/s]\n"
     ]
    }
   ],
   "source": [
    "acc4 = rand_test(node_hvs, dataGraph, mem4, 1)"
   ]
  },
  {
   "cell_type": "code",
   "execution_count": 54,
   "metadata": {},
   "outputs": [
    {
     "name": "stderr",
     "output_type": "stream",
     "text": [
      "100%|██████████| 1000/1000 [00:04<00:00, 220.35it/s]\n"
     ]
    }
   ],
   "source": [
    "acc5 = rand_test(node_hvs, dataGraph, mem5, 1)"
   ]
  },
  {
   "cell_type": "code",
   "execution_count": 74,
   "metadata": {},
   "outputs": [
    {
     "name": "stdout",
     "output_type": "stream",
     "text": [
      "0.504\n"
     ]
    }
   ],
   "source": [
    "print(acc2)"
   ]
  },
  {
   "cell_type": "code",
   "execution_count": 43,
   "metadata": {},
   "outputs": [
    {
     "name": "stdout",
     "output_type": "stream",
     "text": [
      "0.314\n"
     ]
    }
   ],
   "source": [
    "print(acc3)"
   ]
  }
 ],
 "metadata": {
  "kernelspec": {
   "display_name": "224w",
   "language": "python",
   "name": "python3"
  },
  "language_info": {
   "codemirror_mode": {
    "name": "ipython",
    "version": 3
   },
   "file_extension": ".py",
   "mimetype": "text/x-python",
   "name": "python",
   "nbconvert_exporter": "python",
   "pygments_lexer": "ipython3",
   "version": "3.10.13"
  }
 },
 "nbformat": 4,
 "nbformat_minor": 2
}
